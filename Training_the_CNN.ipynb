{
 "cells": [
  {
   "cell_type": "code",
   "execution_count": 1,
   "metadata": {},
   "outputs": [
    {
     "name": "stderr",
     "output_type": "stream",
     "text": [
      "Using TensorFlow backend.\n"
     ]
    }
   ],
   "source": [
    "from keras.preprocessing.image import ImageDataGenerator\n",
    "from keras.optimizers import Adam\n",
    "from keras.preprocessing.image import img_to_array\n",
    "from sklearn.preprocessing import LabelBinarizer\n",
    "from sklearn.model_selection import train_test_split\n",
    "from neuralnetwork.myvggnet import myVGGNet\n",
    "import matplotlib.pyplot as plt\n",
    "import matplotlib\n",
    "matplotlib.use(\"Agg\")\n",
    "from imutils import paths\n",
    "import numpy as np\n",
    "import argparse\n",
    "import random\n",
    "import pickle\n",
    "import cv2\n",
    "import os\n"
   ]
  },
  {
   "cell_type": "code",
   "execution_count": null,
   "metadata": {},
   "outputs": [],
   "source": [
    "# construct the argument parse and parse the arguments\n",
    "ap = argparse.ArgumentParser()\n",
    "ap.add_argument(\"-d\", \"--dataset\", required=True,\n",
    "    help=\"path to input dataset (i.e., directory of images)\")\n",
    "ap.add_argument(\"-m\", \"--model\", required=True,\n",
    "    help=\"path to output model\")\n",
    "ap.add_argument(\"-l\", \"--labelbin\", required=True,\n",
    "    help=\"path to output label binarizer\")\n",
    "ap.add_argument(\"-p\", \"--plot\", type=str, default=\"plot.png\",\n",
    "    help=\"path to output accuracy/loss plot\")\n",
    "args = vars(ap.parse_args())"
   ]
  },
  {
   "cell_type": "code",
   "execution_count": null,
   "metadata": {},
   "outputs": [],
   "source": [
    "epochs=100\n",
    "itit_lr=0.001\n",
    "bs=32\n",
    "image_dims=(96,96,3)\n",
    "\n",
    "#initialize the data and labels\n",
    "data=[]\n",
    "labels=[]\n",
    "\n",
    "#grab the image paths and randomly shuffle them\n",
    "\n",
    "print(\"Loading images...\")\n",
    "imagePath=\"\"\n",
    "random.seed(42)\n",
    "random.shuffle(imagePaths)\n",
    "\n"
   ]
  },
  {
   "cell_type": "code",
   "execution_count": null,
   "metadata": {},
   "outputs": [],
   "source": [
    "#Loop over the input images\n",
    "for imagePath in imagePaths:\n",
    "    image=cv2.imread(imagePath)\n",
    "    image=cv2.resize(image,(image_dims[1],image_dims[1]))\n",
    "    img=img_to_array(images)\n",
    "    data.append(image)\n",
    "    \n",
    "    #extract class label from image path and update labels path\n",
    "    label=imagePath.split(os.path.sep)[-2]\n",
    "    labels.append(label)\n",
    "    \n"
   ]
  },
  {
   "cell_type": "code",
   "execution_count": 2,
   "metadata": {},
   "outputs": [
    {
     "data": {
      "text/plain": [
       "'#scale the raw pixel intensities\\ndata=np.array(data,dtype=\"float\")/255.0\\nlabels=np.array(labels)\\nprint(\"[INFO] data matrix: {:.2f}MB\".format(\\n    data.nbytes / (1024 * 1000.0)))\\n\\n#binarize the models\\nlb=LabelBinarizer()\\nlabels=lb.fit_transform(labels)\\n\\n#partition the data into train and test\\n(trainX,testX,trainY,testY)=train_test_split(data,labels,test_size=0.2,random_state=42)'"
      ]
     },
     "execution_count": 2,
     "metadata": {},
     "output_type": "execute_result"
    }
   ],
   "source": [
    "#scale the raw pixel intensities\n",
    "data=np.array(data,dtype=\"float\")/255.0\n",
    "labels=np.array(labels)\n",
    "print(\"[INFO] data matrix: {:.2f}MB\".format(\n",
    "    data.nbytes / (1024 * 1000.0)))\n",
    "\n",
    "#binarize the models\n",
    "lb=LabelBinarizer()\n",
    "labels=lb.fit_transform(labels)\n",
    "\n",
    "#partition the data into train and test\n",
    "(trainX,testX,trainY,testY)=train_test_split(data,labels,test_size=0.2,random_state=42)"
   ]
  },
  {
   "cell_type": "code",
   "execution_count": 9,
   "metadata": {},
   "outputs": [],
   "source": [
    "#Construct image generator for data augmentation\n",
    "aug=ImageDataGenerator(rotation_range=25, width_shift_range=0.1,\n",
    "    height_shift_range=0.1, shear_range=0.2, zoom_range=0.2,\n",
    "    horizontal_flip=True, fill_mode=\"nearest\")"
   ]
  },
  {
   "cell_type": "code",
   "execution_count": null,
   "metadata": {},
   "outputs": [],
   "source": [
    "#here we create an instance of cnn and choose Adam as our optimization method and Categorical Cross Entropy as loss parameter.\n",
    "#Had this been a v\n",
    "print(\"[INFO] compiling model...\")\n",
    "model = myVGGNet.build(width=IMAGE_DIMS[1], height=IMAGE_DIMS[0],\n",
    "    depth=IMAGE_DIMS[2], classes=len(lb.classes_))\n",
    "opt = Adam(lr=INIT_LR, decay=INIT_LR / EPOCHS)\n",
    "model.compile(loss=\"categorical_crossentropy\", optimizer=opt,\n",
    "    metrics=[\"accuracy\"])\n",
    " \n",
    "# train the network\n",
    "print(\"[INFO] training network...\")\n",
    "H = model.fit_generator(\n",
    "    aug.flow(trainX, trainY, batch_size=BS),\n",
    "    validation_data=(testX, testY),\n",
    "    steps_per_epoch=len(trainX) // BS,\n",
    "    epochs=EPOCHS, verbose=1)"
   ]
  },
  {
   "cell_type": "code",
   "execution_count": null,
   "metadata": {},
   "outputs": [],
   "source": [
    "print(\"[info] serializing network...\")\n",
    "model.save(args[\"model\"])\n",
    "#save the label binarizer..\n",
    "f=open(args[\"labelbin\"],\"wb\")\n",
    "f.write(pickle.dumps(lb))\n",
    "f.close()"
   ]
  },
  {
   "cell_type": "code",
   "execution_count": null,
   "metadata": {},
   "outputs": [],
   "source": [
    "#Plot Training loss and accuracy..\n",
    "plt.style.use(\"ggplot\")\n",
    "plt.figure()\n",
    "N=epochs\n",
    "plt.plot(np.arange(0,N),H.history[\"loss\"],label=\"train_loss\")\n",
    "plt.plot(np.arange(0,N),H.history[\"val_loss\"], label=\"val_loss\")\n",
    "plt.plot(np.arange(0,N),H.history[\"acc\"], label=\"train_acc\")\n",
    "plt.plot(np.arange(0,N),H.history[\"val_acc\"], label=\"val_acc\")\n",
    "plt.title(\"Training Loss and Accuracy\")\n",
    "plt.xlabel(\"Epoch #\")\n",
    "plt.ylabel(\"Loss/Accuracy\")\n",
    "plt.legend(loc=\"upper left\")\n",
    "plt.show()"
   ]
  }
 ],
 "metadata": {
  "kernelspec": {
   "display_name": "Python 3",
   "language": "python",
   "name": "python3"
  },
  "language_info": {
   "codemirror_mode": {
    "name": "ipython",
    "version": 3
   },
   "file_extension": ".py",
   "mimetype": "text/x-python",
   "name": "python",
   "nbconvert_exporter": "python",
   "pygments_lexer": "ipython3",
   "version": "3.7.1"
  }
 },
 "nbformat": 4,
 "nbformat_minor": 2
}
